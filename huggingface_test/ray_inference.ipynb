{
 "cells": [
  {
   "cell_type": "code",
   "execution_count": null,
   "metadata": {},
   "outputs": [],
   "source": [
    "# Import necessary libraries\n",
    "from transformers import AutoModelForCausalLM, AutoTokenizer, pipeline\n",
    "import torch\n",
    "import ray\n",
    "\n",
    "# Initialize Ray\n",
    "ray.init()\n",
    "\n",
    "# Load model and tokenizer\n",
    "model_name = \"internlm/internlm2_5-7b-chat\"\n",
    "tokenizer = AutoTokenizer.from_pretrained(model_name, trust_remote_code=True)\n",
    "model = AutoModelForCausalLM.from_pretrained(model_name, torch_dtype=torch.float16).to(\"cuda\")\n",
    "\n",
    "# Set up the chat pipeline\n",
    "chat = pipeline(\"text-generation\", model=model, tokenizer=tokenizer, device=0)\n",
    "\n",
    "# Define the inference function\n",
    "@ray.remote\n",
    "def generate_response(prompt, max_length=50):\n",
    "    response = chat(prompt, max_length=max_length)\n",
    "    return response[0]['generated_text']\n",
    "\n",
    "# Example usage\n",
    "prompt = \"Hello! How can I assist you today?\"\n",
    "future = generate_response.remote(prompt)\n",
    "response = ray.get(future)\n",
    "print(response)"
   ]
  },
  {
   "cell_type": "code",
   "execution_count": null,
   "metadata": {},
   "outputs": [],
   "source": []
  }
 ],
 "metadata": {
  "kernelspec": {
   "display_name": "sproutchat-env",
   "language": "python",
   "name": "python3"
  },
  "language_info": {
   "codemirror_mode": {
    "name": "ipython",
    "version": 3
   },
   "file_extension": ".py",
   "mimetype": "text/x-python",
   "name": "python",
   "nbconvert_exporter": "python",
   "pygments_lexer": "ipython3",
   "version": "3.12.7"
  }
 },
 "nbformat": 4,
 "nbformat_minor": 2
}
